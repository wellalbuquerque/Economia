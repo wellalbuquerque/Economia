{
  "nbformat": 4,
  "nbformat_minor": 0,
  "metadata": {
    "colab": {
      "name": "Economia_Fo.ipynb",
      "provenance": [],
      "collapsed_sections": [],
      "authorship_tag": "ABX9TyMT8DNca9A9gxOWzpcQwGi4",
      "include_colab_link": true
    },
    "kernelspec": {
      "name": "python3",
      "display_name": "Python 3"
    },
    "language_info": {
      "name": "python"
    }
  },
  "cells": [
    {
      "cell_type": "markdown",
      "metadata": {
        "id": "view-in-github",
        "colab_type": "text"
      },
      "source": [
        "<a href=\"https://colab.research.google.com/github/wellalbuquerque/Economia/blob/main/Preco_a_termo.ipynb\" target=\"_parent\"><img src=\"https://colab.research.google.com/assets/colab-badge.svg\" alt=\"Open In Colab\"/></a>"
      ]
    },
    {
      "cell_type": "code",
      "metadata": {
        "colab": {
          "base_uri": "https://localhost:8080/"
        },
        "id": "xozzBW1wAhNI",
        "outputId": "d4cfcddb-bc04-4dd9-9721-99a430b9c33c"
      },
      "source": [
        "#encoding: utf-8\n",
        "#encoding: iso-8859-1\n",
        "#encoding: win-1252\n",
        "#Atividade desenvolvida para a Curso Derivativos e Gestão de Carteiras\n",
        "#The University of Campinas -UNICAMP\n",
        "#Desenvolvido por: José Wellington Albuquerque\n",
        "# encoding: utf-8\n",
        "# encoding: iso-8859-1\n",
        "# encoding: win-1252\n",
        "\n",
        "from math import e\n",
        "S_o = input(\"Qual o valor do contrato a termo sobre o ativo de investimento em R$? \\n\")\n",
        "t_inicial = input(\"Quantos meses: \\n\")\n",
        "t_final = 12\n",
        "juros_aa = input(\"Digite um valor do juros ao ano: \\n\")\n",
        "n=((float(juros_aa))*(int(t_inicial))/(int(t_final)))\n",
        "\n",
        "F_o=(float(S_o))*(e**n)\n",
        "\n",
        "print ('O preço futuro é de R$',(\"%.2f\"% F_o), 'Reais!\\n\\n')\n",
        "\n",
        "\n",
        "if (F_o > (float(S_o))*(e**(float(juros_aa))*(int(t_final)))):\n",
        "  print (\"Compre o ativo e venda a descoberto com contratos a termo sobre o ativo!!\")\n",
        "else:\n",
        "  print (\"Venda o ativo a descoberto e faça contratos a termo comprados sobre ele.!!\\n\")"
      ],
      "execution_count": 174,
      "outputs": [
        {
          "output_type": "stream",
          "name": "stdout",
          "text": [
            "Qual o valor do contrato a termo sobre o ativo de investimento em R$? \n",
            "32\n",
            "Quantos meses: \n",
            "3\n",
            "Digite um valor do juros ao ano: \n",
            "0.05\n",
            "O preço futuro é de R$ 32.40 Reais!\n",
            "\n",
            "\n",
            "Venda o ativo a descoberto e faça contratos a termo comprados sobre ele.!!\n",
            "\n"
          ]
        }
      ]
    }
  ]
}
