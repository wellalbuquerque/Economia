{
  "nbformat": 4,
  "nbformat_minor": 0,
  "metadata": {
    "colab": {
      "name": "Swap_cambio.ipynb",
      "provenance": [],
      "authorship_tag": "ABX9TyNYvuM6qG2HuIEEeY0VSmp4",
      "include_colab_link": true
    },
    "kernelspec": {
      "name": "python3",
      "display_name": "Python 3"
    },
    "language_info": {
      "name": "python"
    }
  },
  "cells": [
    {
      "cell_type": "markdown",
      "metadata": {
        "id": "view-in-github",
        "colab_type": "text"
      },
      "source": [
        "<a href=\"https://colab.research.google.com/github/wellalbuquerque/Economia/blob/main/Swap_cambio.ipynb\" target=\"_parent\"><img src=\"https://colab.research.google.com/assets/colab-badge.svg\" alt=\"Open In Colab\"/></a>"
      ]
    },
    {
      "cell_type": "code",
      "execution_count": 29,
      "metadata": {
        "colab": {
          "base_uri": "https://localhost:8080/"
        },
        "id": "Aj2WpXSZHXLS",
        "outputId": "759c63e3-f6f8-4250-d815-ddde9cd88bfa"
      },
      "outputs": [
        {
          "output_type": "stream",
          "name": "stdout",
          "text": [
            "Qual o valor do contrato a termo sobre o ativo de investimento em $? \n",
            "0.95\n",
            "Quantos meses: \n",
            "18\n",
            "Digite um valor do juros Dolar: \n",
            "0.024\n",
            "Digite um valor do juros do Euro: \n",
            "0.015\n",
            "O preço futuro é de $ 0.9629 \n",
            "\n",
            "\n",
            "O valor atual do câmbio corresponde a $ 0.94  \n"
          ]
        }
      ],
      "source": [
        "#encoding: utf-8\n",
        "#encoding: iso-8859-1\n",
        "#encoding: win-1252\n",
        "#Atividade desenvolvida para a Curso Derivativos e Gestão de Carteiras: Swaps Cambiais\n",
        "#The University of Campinas -UNICAMP\n",
        "#Desenvolvido por: José Wellington Albuquerque\n",
        "# encoding: utf-8\n",
        "# encoding: iso-8859-1\n",
        "# encoding: win-1252\n",
        "\n",
        "from math import e\n",
        "S_o = (float(input(\"Qual o valor do contrato a termo sobre o ativo de investimento em $? \\n\")))\n",
        "t_inicial = input(\"Quantos meses: \\n\")\n",
        "t_final = 12\n",
        "juros_dla = (float(input(\"Digite um valor do juros Dolar: \\n\")))\n",
        "juros_eur = (float(input(\"Digite um valor do juros do Euro: \\n\")))\n",
        "n=((float(juros_dla-juros_eur))*(int(t_inicial))/(int(t_final)))\n",
        "\n",
        "F_o=(float(S_o))*(e**n)\n",
        "\n",
        "print ('O preço futuro é de $',(\"%.4f\"% F_o), '\\n\\n')\n",
        "v_atual=S_o-(F_o-S_o)\n",
        "print ('O valor atual do câmbio corresponde a $',(\"%.2f\"% v_atual), ' ')\n"
      ]
    }
  ]
}